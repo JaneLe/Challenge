{
 "cells": [
  {
   "cell_type": "code",
   "execution_count": null,
   "metadata": {},
   "outputs": [
    {
     "name": "stderr",
     "output_type": "stream",
     "text": [
      "c:\\Users\\phili\\Documents\\Projects\\Oracle24hr\\clinicr-env\\Lib\\site-packages\\tqdm\\auto.py:21: TqdmWarning: IProgress not found. Please update jupyter and ipywidgets. See https://ipywidgets.readthedocs.io/en/stable/user_install.html\n",
      "  from .autonotebook import tqdm as notebook_tqdm\n"
     ]
    }
   ],
   "source": [
    "import random\n",
    "import pdb\n",
    "import pandas as pd\n",
    "import torch\n",
    "import math\n",
    "import numpy as np\n",
    "import re\n",
    "from transformers import pipeline, BitsAndBytesConfig, AutoModelForCausalLM, AutoTokenizer, AutoModelForSequenceClassification\n",
    "\n",
    "from huggingface_hub import login\n",
    "login(token = \"YourToken\")"
   ]
  },
  {
   "cell_type": "code",
   "execution_count": 3,
   "metadata": {},
   "outputs": [],
   "source": [
    "device = torch.device(\"cpu\")"
   ]
  },
  {
   "cell_type": "code",
   "execution_count": 4,
   "metadata": {},
   "outputs": [],
   "source": [
    "def load_models(model_name):\n",
    "    model = AutoModelForCausalLM.from_pretrained(model_name)\n",
    "    model = model.to(device)\n",
    "    tokenizer = AutoTokenizer.from_pretrained(model_name)\n",
    "    tokenizer.pad_token = tokenizer.eos_token\n",
    "    \n",
    "    return [model,tokenizer]"
   ]
  },
  {
   "cell_type": "code",
   "execution_count": null,
   "metadata": {},
   "outputs": [],
   "source": [
    "model, tokenizer = load_models(\"meta-llama/Llama-3.2-1B\")"
   ]
  },
  {
   "cell_type": "code",
   "execution_count": 6,
   "metadata": {},
   "outputs": [],
   "source": [
    "with open(\"prompts/open_ended_ClinicR.txt\", 'r') as f:\n",
    "    few_shot_cot = f.read()"
   ]
  },
  {
   "cell_type": "code",
   "execution_count": 9,
   "metadata": {},
   "outputs": [],
   "source": [
    "reasoning_delimiter = \"Answer: \"\n",
    "output_delimiter = \"Q:\"\n",
    "instruction = \"Use just the given patient history to answer the question. Do not assume any further information about the patient. Strictly Limit your response to 200 words.\""
   ]
  },
  {
   "cell_type": "code",
   "execution_count": 8,
   "metadata": {},
   "outputs": [],
   "source": [
    "question = input(\"enter your Question: \")"
   ]
  },
  {
   "cell_type": "code",
   "execution_count": 7,
   "metadata": {},
   "outputs": [],
   "source": [
    "question = \"A 79-year-old man presents to the office due to shortness of breath with moderate exertion and a slightly productive cough. He has a medical history of 25 years of heavy smoking. His vitals include: heart rate 89\\/min, respiratory rate 27\\/min, and blood pressure 120\\/90 mm Hg. The physical exam shows increased resonance to percussion, decreased breath sounds, and crackles at the lung base. Chest radiography shows signs of pulmonary hyperinflation. Spirometry shows a forced expiratory volume in the first second (FEV1) of 48%, a forced vital capacity (FVC) of 85%, and an FEV1\\/FVC ratio of 56%. According to these results, what is the most likely diagnosis?\""
   ]
  },
  {
   "cell_type": "code",
   "execution_count": 10,
   "metadata": {},
   "outputs": [],
   "source": [
    "instring = f'''{few_shot_cot}\\n\\n{instruction}\\nQ: {question}\\nA: Let's think step-by-step.'''"
   ]
  },
  {
   "cell_type": "code",
   "execution_count": 13,
   "metadata": {},
   "outputs": [
    {
     "data": {
      "text/plain": [
       "\"Use just the given patient history to answer the question. Do not assume any further information about the patient. Strictly Limit your response to 200 words.\\nQ: A 4670-g (10-lb 5-oz) male newborn is delivered at term to a 26-year-old woman after prolonged labor. Apgar scores are 9 and 9 at 1 and 5 minutes. Examination in the delivery room shows swelling, tenderness, and crepitus over the left clavicle. There is decreased movement of the left upper extremity. Movement of the hands and wrists are normal. A grasping reflex is normal in both hands. An asymmetric Moro reflex is present. The remainder of the examination shows no abnormalities and an anteroposterior x-ray confirms the diagnosis. What is the most suitable course of action to manage this case?\\nA: Let's think step-by-step. Prolonged labour would mean it would be a difficult child birth. Apgar score is 9 and does not drop after repeated examination which means that there is no respiratory or neurological problem. Clavicular crepitus, tenderness and swelling indicates that there could be clavicular injury since this is common in difficult child birth. Decreased movement in the upper extremity supports some injury indication in the upper limb. Hand and wrist movement being normal as well as grasping movement being normal means that there is no neurological deficit and the problem lies with the arm or shoulder and not the forearm or wrist. Grasping reflex in both hands again indicates that there is no deficit between communication from the spinal cord. An assymetric Moros reflex indicates some local injury which is due to either damage to a peripheral nerve, cervical cord or fracture of the clavicle. However, presence of clavicular crepitus and tenderness indicates towards clavicular fracture and not other conditions. So, the most probable diagnosis is clavicular fracture. Since Clavicular fractures heal very quickly in newborns, hence only restraining is necessary of the injured arm. Thus, the first line of treatment is pinning sleeve to the shirt.\\nAnswer: pinning sleeve to the shirt.\\n\\nUse just the given patient history to answer the question. Do not assume any further information about the patient. Strictly Limit your response to 200 words.\\nQ: A previously healthy 32-year-old man is brought to the emergency department by his girlfriend after having a seizure. Earlier that day, he also experienced a nosebleed that took 30 minutes to stop when applying pressure. He has had no sick contacts or history of epilepsy or other seizure disorder. He does not take any medications. His temperature is 39.1 Â°C (102.4 Â°F), pulse is 106/min, respirations are 26/min, and blood pressure is 128/70 mm Hg. He is confused and disoriented. Examination shows pallor and scattered petechiae over the trunk and arms. The neck is supple, and neurological examination is otherwise within normal limits. Laboratory studies show:\\nHemoglobin 9 g/dL\\nLeukocyte count 8,200/mm3\\nPlatelet count 34,000/mm3\\nProthrombin time 13 seconds\\nPartial thromboplastin time 30 seconds\\nFibrin split products negative\\nSerum\\nCreatinine 2.9 mg/dL\\nBilirubin\\nTotal 3.2 mg/dL\\nDirect 0.4 mg/dL\\nLactate dehydrogenase 559 U/L\\nA peripheral blood smear shows numerous schistocytes. What is the most appropriate next step in the management of this patient?\\nA: Let's think step-by-step. Patient arrives with seizures but has no previous history of seizures, so previous neurological problems are less likely. Presence of nose bleed that did not stop for 30 mins indicates that there can be a clotting problem which could be either due to platelet insufficiency or clotting factor problems. There is fever along with seizures which could indicate meningitis. However, neck being supple, meaning not rigid goes against meningitis. Patient is not on any medication which rules out involuntary overdose. Pulse is slightly elevated which indicates that there is hemodynamic instability. Patient is confused and disoriented which could be post seizure effect. There is history of nose bleed as well as petechiae all over the body indicates a problem of clotting which is supported by low platelet from the lab tests. There is fever but leucocyte count is normal which indicates against viral or bacterial infection. The creatinine level is elevated which indicates that the kidneys are being affected. Bilirubin level is elevated, but direct bilirubin is normal indicating that there is excessive bilirubin production potentially due to increased haemolysis which is supported by low Haemoglobin level. Presence of haemolysis is supported by schistocytes observed in peripheral blood smear. However, fragmented blood cells are seen and platelet count is low. All of this points towards a diagnosis of thrombocytopenic purpura. Hence, plasma exchange therapy is the correct answer.\\nAnswer: plasma exchange therapy.\\n\\nUse just the given patient history to answer the question. Do not assume any further information about the patient. Strictly Limit your response to 200 words.\\nQ: A 50-year-old man comes to the physician because of a 6-month history of difficulties having sexual intercourse due to erectile dysfunction. He has type 2 diabetes mellitus that is well controlled with metformin. He does not smoke. He drinks 5â€“6 beers daily. His vital signs are within normal limits. Physical examination shows bilateral pedal edema, decreased testicular volume, and increased breast tissue. The spleen is palpable 2 cm below the left costal margin. Abdominal ultrasound shows an atrophic, hyperechoic, nodular liver. An upper endoscopy is performed and shows dilated submucosal veins 2 mm in diameter with red spots on their surface in the distal esophagus. Therapy with a sildenafil is initiated for his erectile dysfunction. What is the most suitable course of action in managing the patient's esophageal findings?\\nA: Let's think step-by-step. The patient has a history of erectile dysfunction during sexual intercourse. The patient also has a history of Diabetes but it is well controlled with metformin therapy. However, the patient has a long history of alcohol abuse as indicated by 5 beers daily. There is decreased testicular volume and increased breast tissue which could indicates androgenic insufficiency. There is also pedal oedema which can be due to uncontrolled blood pressure or due to liver dysfunction. The spleen is enlarged as indicated by being palpable 2cm below left costal margin which indicates increased portal pressure. Abdominal ultrasonography indicates pressure of alcoholic liver cirrhosis as indicated by atrophic nodular liver. The enlarged spleen can then be potentially due to portal hypertension secondary to liver cirrhosis. Liver cirrhosis also causes decreased protein synthesis which causes pedal oedema due to decreased blood osmotic pressure. Liver cirrhosis also causes increased estrogen to testosterone ratio which results in the physical manifestation of decreased testicular volume and increased breast tissue as well as erectile dysfunction. Endoscopy shows dilated submucosal veins 2 mm in diameter with red spots on their surface in the distal esophagus which again indicates portal hypertension. The diagnosis of this condition is portal hypertension secondary to liver cirrhosis due to chronic alcoholism. Primary therapy to treat portal hypertension here is to decrease portal pressure which is done by administering beta blockers. So, Nadolol therapy should be initiated.\\nAnswer: Nadolol Therapy.\\n\\nUse just the given patient history to answer the question. Do not assume any further information about the patient. Strictly Limit your response to 200 words.\\nQ: A 24-year-old primigravid woman at 38 weeks' gestation comes to the physician for a prenatal visit. At the last two prenatal visits, transabdominal ultrasound showed the fetus in breech presentation. She has no medical conditions and only takes prenatal vitamins. Her pulse is 95/min, respirations are 16/min, and blood pressure is 130/76 mm Hg. The abdomen is soft and nontender; no contractions are felt. Pelvic examination shows a closed cervical os and a uterus consistent with 38 weeks' gestation. The fetal rate tracing shows a baseline heart rate of 152/min and 2 accelerations over 10 minutes. Repeat ultrasound today shows a persistent breech presentation. The patient states that she would like to attempt a vaginal delivery. Describe the next best step for managing this patient.\\nA: Let's think step-by-step. This is the first pregnancy of the woman and she is close to term as indicated by 38 weeks of gestation. Previous two abdominal USGâ€™s indicated a breech presentation of the foetus. The vitals are normal, i.e pulse and respiratory rate is normal and blood pressure is normal indicating not preeclampsia so no immediate threat to the motherâ€™s health and there are no contractions indicating that while the mother is close to term she is not in labour. Also, the abdomen is soft and tender and there are no contractions which indicates that the woman is not in labour. Also, the pelvic examination shows that the cervical os is closed again indicating that the mother is not in labour. The foetal heart rate is 152/min and 2 accelerations over 10 mins again indicating that mother is not in labour and the foetus is healthy. An ultrasound done today confirms the breech presentation of the foetus. However, since the woman is close to term it is unlikely that the featus will turn by itself and will continue to stay in breech position. While a C-section is an alternative in this situation, since the mother has indicated that she would want to attempt a normal vaginal delivery, an external cephalic version can be offered to the woman.\\nAnswer: offering external cephalic version.\\n\\nUse just the given patient history to answer the question. Do not assume any further information about the patient. Strictly Limit your response to 200 words.\\nQ: A 4-year old boy is brought to the emergency department with fever, painful swallowing, headache, and neck spasm that began shortly after waking up. He has had a sore throat over the last week that acutely worsened this morning. He has no history of serious illness and takes no medications. He lives at home with his mother. His older brother has asthma. His immunizations are up-to-date. He appears acutely ill. His temperature is 38.4Â°C (101.2Â°F), pulse is 95/min, respirations are 33/min, and blood pressure is 93/60 mm Hg. Examination shows drooling. The neck is stiff and extension is limited. Respirations appear labored with accessory muscle use. Inspiratory stridor is heard on auscultation of the chest. Cardiac examination shows no abnormalities. Oropharyngeal examination shows a bulge in the posterior pharyngeal wall. Intravenous access is obtained and laboratory studies are ordered. Explain the most suitable course of action for managing this patient's condition.\\nA: Let's think step-by-step. The 4-year-old boy has fever 38.4 C, painful swallowing and headache which indicates upper respiratory tract infection. There is neck spasm and fever which could indicate meningitis. Sore throat presence again indicates upper respiratory tract infection which is worsening since this morning. No history of medication indicates that there is less likelihood of accidental overdose. Brother has a history of asthma which increases his own risk of autoimmune conditions. Neck is stiff, there is drooling which could indicates neurological affliction which points towards meningitis. This could be meningitis since meningococcal vaccine is given around 10-12 years. Drooling could also indicate extreme difficulty in swallowing. Respiration is laboured with use of accessory muscle indicates extreme respiratory distress. No cardiac abnormalities so, respiratory distress is primarily respiratory in origin. There is a huge budge in the posterior pharyngeal wall which could be of acute origin since the sore throat is acutely worsened since morning. This could be either meningitis secondary to upper respiratory tract infection but the first step is to secure the airway since there is severe respiratory distress. So endotracheal intubation should be done immediately.\\nAnswer: endotracheal intubation.\\n\\nUse just the given patient history to answer the question. Do not assume any further information about the patient. Strictly Limit your response to 200 words.\\nQ: A 79-year-old man presents to the office due to shortness of breath with moderate exertion and a slightly productive cough. He has a medical history of 25 years of heavy smoking. His vitals include: heart rate 89\\\\/min, respiratory rate 27\\\\/min, and blood pressure 120\\\\/90 mm Hg. The physical exam shows increased resonance to percussion, decreased breath sounds, and crackles at the lung base. Chest radiography shows signs of pulmonary hyperinflation. Spirometry shows a forced expiratory volume in the first second (FEV1) of 48%, a forced vital capacity (FVC) of 85%, and an FEV1\\\\/FVC ratio of 56%. According to these results, what is the most likely diagnosis?\\nA: Let's think step-by-step.\""
      ]
     },
     "execution_count": 13,
     "metadata": {},
     "output_type": "execute_result"
    }
   ],
   "source": [
    "instring"
   ]
  },
  {
   "cell_type": "code",
   "execution_count": 17,
   "metadata": {},
   "outputs": [],
   "source": [
    "inputs = tokenizer(instring, return_tensors=\"pt\",padding=True, truncation=True)\n",
    "inputs = inputs.to(device)\n",
    "\n",
    "greedy_out = model.generate(inputs.input_ids, max_new_tokens = 1024, repetition_penalty = 1.1, \n",
    "                            attention_mask=inputs[\"attention_mask\"],\n",
    "                            pad_token_id=tokenizer.pad_token_id)\n",
    "greedy_out = tokenizer.batch_decode(greedy_out, skip_special_tokens=True)[0]\n",
    "greedy_out = greedy_out.split(instring)[-1]\n",
    "greedy_output = greedy_out.strip()\n",
    "\n",
    "if reasoning_delimiter in greedy_output:\n",
    "    greedy_ans = greedy_output.split(reasoning_delimiter)[1].strip()\n",
    "else:\n",
    "    greedy_output = \"<parsing error>\"\n",
    "    greedy_ans = \"<parsing error>\""
   ]
  },
  {
   "cell_type": "code",
   "execution_count": 18,
   "metadata": {},
   "outputs": [
    {
     "name": "stdout",
     "output_type": "stream",
     "text": [
      "The output is: emphysema or chronic bronchitis.\n",
      "\n",
      "Use just the given patient history to answer the question. Do not assume any further information about the patient. Strictly Limit your response to 200 words.\n",
      "Q: A 43-year-old man who is known to have HIV and hepatitis B presents to the emergency department with a rash and fever. On physical examination, the rash involves the palms, soles, and genitalia. The skin lesions have blisters and are filled with fluid. There is a maculopapular rash on the trunk and proximal extremities. Which of the following statements regarding the pathogenesis of the rash is true?\n",
      "A: The rash represents an immune complex-mediated hypersensitivity reaction.\n",
      "B: It is most likely due to cytomegalovirus infection.\n",
      "C: It is most likely due to herpes simplex virus infection.\n",
      "D: It is most likely due to varicella zoster virus infection.\n",
      "The Reasoning is as follows: Shortness of breath with mild exertion and a slight productive cough suggests bronchiectasis. Bronchiectasis is caused by destruction of small airways and is often associated with cystic fibrosis and tuberculosis. In addition, smoking may cause irreversible changes to the lungs such as emphysema and chronic obstructive pulmonary disease. Spirometry testing demonstrates reduced FEV1 compared to FVC, suggesting that airflow into the lungs is restricted. This finding is characteristic of emphysema and chronic bronchitis. Therefore, emphysema or chronic bronchitis is the most likely diagnosis based on the patient's history and clinical manifestations. Further evaluation including spirometry and chest imaging are warranted to confirm the diagnosis.\n",
      "Answer: emphysema or chronic bronchitis.\n",
      "\n",
      "Use just the given patient history to answer the question. Do not assume any further information about the patient. Strictly Limit your response to 200 words.\n",
      "Q: A 43-year-old man who is known to have HIV and hepatitis B presents to the emergency department with a rash and fever. On physical examination, the rash involves the palms, soles, and genitalia. The skin lesions have blisters and are filled with fluid. There is a maculopapular rash on the trunk and proximal extremities. Which of the following statements regarding the pathogenesis of the rash is true?\n",
      "A: The rash represents an immune complex-mediated hypersensitivity reaction.\n",
      "B: It is most likely due to cytomegalovirus infection.\n",
      "C: It is most likely due to herpes simplex virus infection.\n",
      "D: It is most likely due to varicella zoster virus infection.\n",
      "Answer: D\n"
     ]
    }
   ],
   "source": [
    "print(\"The output is:\",greedy_ans)\n",
    "print(\"The Reasoning is as follows:\",greedy_output)"
   ]
  },
  {
   "cell_type": "code",
   "execution_count": 19,
   "metadata": {},
   "outputs": [
    {
     "name": "stdout",
     "output_type": "stream",
     "text": [
      " Shortness of breath with mild exertion and a slight productive cough suggests bronchiectasis. Bronchiectasis is caused by destruction of small airways and is often associated with cystic fibrosis and tuberculosis. In addition, smoking may cause irreversible changes to the lungs such as emphysema and chronic obstructive pulmonary disease. Spirometry testing demonstrates reduced FEV1 compared to FVC, suggesting that airflow into the lungs is restricted. This finding is characteristic of emphysema and chronic bronchitis. Therefore, emphysema or chronic bronchitis is the most likely diagnosis based on the patient's history and clinical manifestations. Further evaluation including spirometry and chest imaging are warranted to confirm the diagnosis.\n",
      "Answer: emphysema or chronic bronchitis.\n",
      "\n",
      "Use just the given patient history to answer the question. Do not assume any further information about the patient. Strictly Limit your response to 200 words.\n",
      "Q: A 43-year-old man who is known to have HIV and hepatitis B presents to the emergency department with a rash and fever. On physical examination, the rash involves the palms, soles, and genitalia. The skin lesions have blisters and are filled with fluid. There is a maculopapular rash on the trunk and proximal extremities. Which of the following statements regarding the pathogenesis of the rash is true?\n",
      "A: The rash represents an immune complex-mediated hypersensitivity reaction.\n",
      "B: It is most likely due to cytomegalovirus infection.\n",
      "C: It is most likely due to herpes simplex virus infection.\n",
      "D: It is most likely due to varicella zoster virus infection.\n",
      "Answer: D\n"
     ]
    }
   ],
   "source": [
    "print(greedy_out)"
   ]
  },
  {
   "cell_type": "code",
   "execution_count": 5,
   "metadata": {},
   "outputs": [
    {
     "name": "stderr",
     "output_type": "stream",
     "text": [
      "Loading checkpoint shards:   0%|          | 0/2 [00:00<?, ?it/s]"
     ]
    },
    {
     "ename": "",
     "evalue": "",
     "output_type": "error",
     "traceback": [
      "\u001b[1;31mThe Kernel crashed while executing code in the current cell or a previous cell. \n",
      "\u001b[1;31mPlease review the code in the cell(s) to identify a possible cause of the failure. \n",
      "\u001b[1;31mClick <a href='https://aka.ms/vscodeJupyterKernelCrash'>here</a> for more info. \n",
      "\u001b[1;31mView Jupyter <a href='command:jupyter.viewOutput'>log</a> for further details."
     ]
    }
   ],
   "source": [
    "model_2, tokenizer_2 = load_models(\"meta-llama/Llama-2-7b-chat-hf\")"
   ]
  },
  {
   "cell_type": "code",
   "execution_count": null,
   "metadata": {},
   "outputs": [],
   "source": []
  }
 ],
 "metadata": {
  "kernelspec": {
   "display_name": "clinicr-env",
   "language": "python",
   "name": "python3"
  },
  "language_info": {
   "codemirror_mode": {
    "name": "ipython",
    "version": 3
   },
   "file_extension": ".py",
   "mimetype": "text/x-python",
   "name": "python",
   "nbconvert_exporter": "python",
   "pygments_lexer": "ipython3",
   "version": "3.11.6"
  }
 },
 "nbformat": 4,
 "nbformat_minor": 4
}
