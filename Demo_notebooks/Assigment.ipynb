{
 "cells": [
  {
   "cell_type": "code",
   "execution_count": null,
   "metadata": {},
   "outputs": [],
   "source": [
    "#load MedMCQA dataset\n",
    "from datasets import load_dataset\n",
    "import os\n",
    "\n",
    "# Load the dataset\n",
    "medmcqa = load_dataset(\"bigbio/med_qa\", trust_remote_code=True)\n",
    "\n",
    "# Directory to save processed data\n",
    "current_path = os.getcwd()\n",
    "repo_name = \"Oracle24hr\"\n",
    "repo_root = current_path.split(repo_name)[0]\n",
    "print(repo_root)\n",
    "\n",
    "# Define the path to the data directory and JSON file in the repo root\n",
    "output_dir = os.path.join(repo_root,repo_name, 'data')\n",
    "os.makedirs(output_dir, exist_ok=True)\n",
    "\n",
    "# Save each split as a JSONL file in the output directory\n",
    "for split in [\"train\", \"validation\", \"test\"]:\n",
    "    file_path = os.path.join(output_dir, f\"{split}.json\")\n",
    "    medmcqa[split].to_json(file_path)\n"
   ]
  },
  {
   "cell_type": "code",
   "execution_count": 10,
   "metadata": {},
   "outputs": [
    {
     "name": "stdout",
     "output_type": "stream",
     "text": [
      "c:\\Users\\phili\\Documents\\Projects\\\n"
     ]
    }
   ],
   "source": [
    "import json\n",
    "import os\n",
    "\n",
    "# Get the root of the repository (assumes this script is in a subdirectory of the repo)\n",
    "current_path = os.getcwd()\n",
    "repo_name = \"Oracle24hr\"\n",
    "repo_root = current_path.split(repo_name)[0]\n",
    "print(repo_root)\n",
    "\n",
    "# Define the path to the data directory and JSON file in the repo root\n",
    "data_dir = os.path.join(repo_root,repo_name, 'data')\n",
    "file_path = os.path.join(data_dir, 'test.json')\n",
    "\n",
    "# Read the JSON file line by line\n",
    "qa_data = []\n",
    "try:\n",
    "    with open(file_path, 'r') as f:\n",
    "        for line in f:\n",
    "            if line.strip():  # Skip empty lines\n",
    "                item = json.loads(line)\n",
    "                question = item.get('question')\n",
    "                answer = item.get('answer')\n",
    "                qa_data.append({'question': question, 'answer': answer})\n",
    "except FileNotFoundError:\n",
    "    print(f\"File not found: {file_path}\")\n"
   ]
  },
  {
   "cell_type": "code",
   "execution_count": 15,
   "metadata": {},
   "outputs": [
    {
     "data": {
      "text/plain": [
       "{'question': \"A 67-year-old man with transitional cell carcinoma of the bladder comes to the physician because of a 2-day history of ringing sensation in his ear. He received this first course of neoadjuvant chemotherapy 1 week ago. Pure tone audiometry shows a sensorineural hearing loss of 45 dB. The expected beneficial effect of the drug that caused this patient's symptoms is most likely due to which of the following actions?\",\n",
       " 'answer': 'Cross-linking of DNA'}"
      ]
     },
     "execution_count": 15,
     "metadata": {},
     "output_type": "execute_result"
    }
   ],
   "source": [
    "qa_data[1]"
   ]
  },
  {
   "cell_type": "code",
   "execution_count": 18,
   "metadata": {},
   "outputs": [
    {
     "name": "stdout",
     "output_type": "stream",
     "text": [
      "Creating Options\n",
      "Option Created : cisplatin induced hearing loss.\n",
      "New Option Accepted cisplatin induced hearing loss.\n",
      "Option Created : hearing impairment is directly due to cisplatin toxicity\n",
      "New Option Accepted hearing impairment is directly due to cisplatin toxicity\n",
      "Option Created : Neoadjuvant chemotherapy\n",
      "New Option Accepted Neoadjuvant chemotherapy\n",
      "<parsing error>\n",
      "Option Created : after complete remission\n",
      "New Option Accepted after complete remission\n",
      "Final Options : ['cisplatin induced hearing loss.', 'hearing impairment is directly due to cisplatin toxicity', 'Neoadjuvant chemotherapy', 'after complete remission']\n"
     ]
    }
   ],
   "source": [
    "import random\n",
    "import pdb\n",
    "import pandas as pd\n",
    "import torch\n",
    "import math\n",
    "import numpy as np\n",
    "import re\n",
    "from transformers import pipeline, BitsAndBytesConfig, AutoModelForCausalLM, AutoTokenizer, AutoModelForSequenceClassification\n",
    "from transformers import LlamaTokenizer\n",
    "from huggingface_hub import login\n",
    "login(token = \"YourToken\")\n",
    "device = torch.device(\"cpu\")\n",
    "def load_models(model_name):\n",
    "    model = AutoModelForCausalLM.from_pretrained(model_name)\n",
    "    model = model.to(device)\n",
    "    tokenizer = AutoTokenizer.from_pretrained(model_name)\n",
    "    tokenizer.pad_token = tokenizer.eos_token\n",
    "    \n",
    "    return [model,tokenizer]\n",
    "def option_exists(new_op,old_ops):\n",
    "    new_op = new_op.strip(\". \").lower()\n",
    "    for old_op in old_ops:\n",
    "        old_op = old_op.strip(\". \").lower()\n",
    "        if (new_op in old_op or old_op in new_op):\n",
    "            return(1)\n",
    "    return(0)\n",
    "\n",
    "def create_options(instring, num_unique_ops = 4, options_generate_limit = 15):\n",
    "    unique_options = []\n",
    "    all_options = []\n",
    "    op_to_reason = {}\n",
    "\n",
    "    inputs = tokenizer(instring, return_tensors=\"pt\",padding=True)\n",
    "    attention_mask = inputs[\"attention_mask\"]\n",
    "    inputs = inputs.to(device)\n",
    "\n",
    "    print(\"Creating Options\")\n",
    "\n",
    "    while(len(all_options) < options_generate_limit and len(unique_options) < num_unique_ops):\n",
    "\n",
    "        if not len(all_options):\n",
    "            # outputs = greedy_model.generate([instring])[0]\n",
    "            outputs = model.generate(\n",
    "                    inputs.input_ids, \n",
    "                    max_new_tokens = 1024, \n",
    "                    repetition_penalty = 1.1, \n",
    "                    attention_mask=attention_mask,\n",
    "                    pad_token_id=tokenizer.eos_token_id,\n",
    "                    )\n",
    "        else:\n",
    "            # outputs = model.generate([instring])[0]\n",
    "            outputs = model.generate(\n",
    "                    inputs.input_ids, \n",
    "                    max_new_tokens = 1024, \n",
    "                    do_sample = True, \n",
    "                    temperature = 1, \n",
    "                    repetition_penalty = 1.1,\n",
    "                    attention_mask=attention_mask,\n",
    "                    pad_token_id=tokenizer.eos_token_id,\n",
    "                    )\n",
    "\n",
    "        # text_output = outputs.generated_text.strip()\n",
    "        text_output = tokenizer.batch_decode(outputs, skip_special_tokens=True)[0]\n",
    "        text_output = text_output.split(instring)[-1]\n",
    "        text_output = text_output.strip()\n",
    "        #print(\"Text Output : \",text_output)\n",
    "\n",
    "        if reasoning_delimiter in text_output:\n",
    "            op_reasoning, op_text  = text_output.split(reasoning_delimiter)[0], text_output.split(reasoning_delimiter)[1]\n",
    "            op_reasoning, op_text = op_reasoning.strip(), op_text.strip().split(\"\\n\")[0].strip()\n",
    "\n",
    "            print(\"Option Created :\",op_text)\n",
    "\n",
    "            if not option_exists(op_text,unique_options):\n",
    "                print(\"New Option Accepted\", op_text)\n",
    "                unique_options.append(op_text)\n",
    "                op_to_reason[op_text] = op_reasoning\n",
    "            else:\n",
    "                print(\"Option already exists.. Discarding..\")\n",
    "            \n",
    "        else:\n",
    "            op_text = \"<parsing error>\"\n",
    "            print(op_text)\n",
    "\n",
    "        all_options.append(op_text)\n",
    "\n",
    "    print(\"Final Options :\", unique_options)\n",
    "\n",
    "    return [unique_options,op_to_reason]\n",
    "model, tokenizer = load_models(\"meta-llama/Llama-3.2-1B\")\n",
    "file_path = os.path.join('.', 'prompts', 'open_ended_ClinicR.txt')\n",
    "with open(file_path, 'r') as f:\n",
    "    few_shot_cot = f.read()\n",
    "reasoning_delimiter = \"Answer: \"\n",
    "output_delimiter = \"Q:\"\n",
    "instruction = \"Use just the given patient history to answer the question. Do not assume any further information about the patient. Strictly Limit your response to 200 words.\"\n",
    "question = qa_data[1]['question']\n",
    "f_instring = f'''{few_shot_cot}\\n\\n{instruction}\\nQ: {question}\\nA: Let's think step-by-step.'''\n",
    "uniq_options, op_to_reason = create_options(f_instring)\n",
    "if (len(uniq_options) < 4):\n",
    "    print(\"Not enough Options\")\n",
    "\n",
    "else:\n",
    "    options_text = \"\"\n",
    "    for op_num,op in enumerate(uniq_options):\n",
    "        options_text += f\"({chr(ord('A') + op_num)}) {op} \"\n",
    "\n",
    "    options_text = options_text.strip() + '\\n'\n",
    "    with open(\"prompts/MCQ_Eliminative.txt\", 'r') as f:\n",
    "        backward_prompt = f.read()\n",
    "    backward_ques = question\n",
    "    b_instring = f\"{backward_prompt}\\n\\nQ: {backward_ques}\\n{options_text}A: Let's think step-by-step.\"\n",
    "\n",
    "    b_inputs = tokenizer(b_instring, return_tensors=\"pt\",padding=True)\n",
    "    attention_mask = b_inputs[\"attention_mask\"]\n",
    "    b_inputs = b_inputs.to(device)\n",
    "\n",
    "    b_output = model.generate(\n",
    "                    b_inputs.input_ids, \n",
    "                    max_new_tokens = 1024, \n",
    "                    repetition_penalty = 1.1, \n",
    "                    attention_mask=attention_mask,\n",
    "                    pad_token_id=tokenizer.eos_token_id,\n",
    "                    )\n",
    "    b_output = tokenizer.batch_decode(b_output, skip_special_tokens=True)[0]\n",
    "    b_output = b_output.split(b_instring)[-1]\n",
    "    b_output = b_output.strip()\n",
    "\n",
    "    if b_output.strip() == \"\":\n",
    "        print(\"output empty\")\n",
    "        b_output = \"<empty>\"\n",
    "\n",
    "    b_answer = re.findall(r\"\\([A-D]\\)\",b_output)\n",
    "    if len(b_answer):\n",
    "        b_answer = b_answer[0]\n",
    "        option = ord(b_answer[1]) - ord('A') + 1\n",
    "        b_answer_idx = ord(b_answer[1]) - ord('A')\n",
    "        output = b_answer + \" \" + op_to_reason[uniq_options[b_answer_idx]] + \"\\nAnswer: \" + uniq_options[b_answer_idx]\n",
    "    else:\n",
    "        b_answer =\"<parsing error>\" \n",
    "        option = 0\n",
    "        output = \"<parsing error>\""
   ]
  },
  {
   "cell_type": "code",
   "execution_count": 13,
   "metadata": {},
   "outputs": [
    {
     "name": "stderr",
     "output_type": "stream",
     "text": [
      "The attention mask and the pad token id were not set. As a consequence, you may observe unexpected behavior. Please pass your input's `attention_mask` to obtain reliable results.\n",
      "Setting `pad_token_id` to `eos_token_id`:128001 for open-end generation.\n"
     ]
    },
    {
     "name": "stdout",
     "output_type": "stream",
     "text": [
      "The output is: (A) The patient has transitional cell carcinoma of the bladder which is a cancerous growth of the urinary system. Neoadjuvant chemotherapy is used in advanced stage cancers to shrink the tumor before surgery. It is thought that chemotherapeutic drugs cause necrosis of tumor cells resulting in more complete destruction of tumor than surgical resection alone. In this case, the patient has undergone neoadjuvant chemotherapy prior to presenting to the physician. Since the patient had a hearing loss, the drug that was responsible for this patient's symptoms is probably ototoxic. Ototoxicity is the side effect of some chemotherapy drugs that causes irreversible damage to the inner ear. Some examples of ototoxic drugs include cisplatin, methotrexate, cyclophosphamide, and vinblastine. Hearing loss due to ototoxicity may occur anywhere from days to months after the administration of the drug. Therefore, patients who develop hearing loss should be evaluated for ototoxicity.\n",
      "Answer: cisplatin\n"
     ]
    }
   ],
   "source": [
    "with open(\"prompts/MCQ_Eliminative.txt\", 'r') as f:\n",
    "        backward_prompt = f.read()\n",
    "if (len(uniq_options) < 4):\n",
    "    print(\"Not enough Options\")\n",
    "\n",
    "else:\n",
    "    options_text = \"\"\n",
    "    for op_num,op in enumerate(uniq_options):\n",
    "        options_text += f\"({chr(ord('A') + op_num)}) {op} \"\n",
    "\n",
    "    options_text = options_text.strip() + '\\n'\n",
    "\n",
    "    backward_ques = question\n",
    "    b_instring = f\"{backward_prompt}\\n\\nQ: {backward_ques}\\n{options_text}A: Let's think step-by-step.\"\n",
    "\n",
    "    b_inputs = tokenizer(b_instring, return_tensors=\"pt\")\n",
    "    b_inputs = b_inputs.to(device)\n",
    "\n",
    "    b_output = model.generate(b_inputs.input_ids, max_new_tokens = 1024, repetition_penalty = 1.1)\n",
    "    b_output = tokenizer.batch_decode(b_output, skip_special_tokens=True)[0]\n",
    "    b_output = b_output.split(b_instring)[-1]\n",
    "    b_output = b_output.strip()\n",
    "\n",
    "    if b_output.strip() == \"\":\n",
    "        print(\"output empty\")\n",
    "        b_output = \"<empty>\"\n",
    "\n",
    "    b_answer = re.findall(r\"\\([A-D]\\)\",b_output)\n",
    "    if len(b_answer):\n",
    "        b_answer = b_answer[0]\n",
    "        option = ord(b_answer[1]) - ord('A') + 1\n",
    "        b_answer_idx = ord(b_answer[1]) - ord('A')\n",
    "        output = b_answer + \" \" + op_to_reason[uniq_options[b_answer_idx]] + \"\\nAnswer: \" + uniq_options[b_answer_idx]\n",
    "    else:\n",
    "        b_answer =\"<parsing error>\" \n",
    "        option = 0\n",
    "        output = \"<parsing error>\"\n",
    "print(\"The output is:\",output)"
   ]
  },
  {
   "cell_type": "code",
   "execution_count": 16,
   "metadata": {},
   "outputs": [
    {
     "data": {
      "text/plain": [
       "{'question': \"A 67-year-old man with transitional cell carcinoma of the bladder comes to the physician because of a 2-day history of ringing sensation in his ear. He received this first course of neoadjuvant chemotherapy 1 week ago. Pure tone audiometry shows a sensorineural hearing loss of 45 dB. The expected beneficial effect of the drug that caused this patient's symptoms is most likely due to which of the following actions?\",\n",
       " 'answer': 'Cross-linking of DNA'}"
      ]
     },
     "execution_count": 16,
     "metadata": {},
     "output_type": "execute_result"
    }
   ],
   "source": [
    "qa_data[1]"
   ]
  }
 ],
 "metadata": {
  "kernelspec": {
   "display_name": "clinicr-env",
   "language": "python",
   "name": "python3"
  },
  "language_info": {
   "codemirror_mode": {
    "name": "ipython",
    "version": 3
   },
   "file_extension": ".py",
   "mimetype": "text/x-python",
   "name": "python",
   "nbconvert_exporter": "python",
   "pygments_lexer": "ipython3",
   "version": "3.11.6"
  }
 },
 "nbformat": 4,
 "nbformat_minor": 2
}
